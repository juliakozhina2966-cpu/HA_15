{
 "cells": [
  {
   "cell_type": "code",
   "execution_count": 4,
   "id": "ca3d5876-6dac-4c91-accc-c3a5a6d20d05",
   "metadata": {},
   "outputs": [
    {
     "name": "stdout",
     "output_type": "stream",
     "text": [
      "Recommended cuts:  [2, 6]\n",
      "Maximum obtainable value:  22\n"
     ]
    }
   ],
   "source": [
    "#Task 1\n",
    "def rod_cutting(length, prices):\n",
    "    best_value = [0] * (length + 1)\n",
    "    first_cut = [0] * (length + 1)\n",
    "    \n",
    "    for i in range(1, length + 1):\n",
    "        max_value = 0\n",
    "        best_cut = 0\n",
    "\n",
    "        for j in range(1, i + 1):\n",
    "            if j <= len(prices):\n",
    "                value = prices[j - 1] + best_value[i - j]\n",
    "                if value > max_value:\n",
    "                    max_value = value\n",
    "                    best_cut = j\n",
    "\n",
    "        best_value[i] = max_value\n",
    "        first_cut[i] = best_cut\n",
    "        cuts = []\n",
    "    remaining = length\n",
    "    while remaining > 0:\n",
    "        cuts.append(first_cut[remaining])\n",
    "        remaining -= first_cut[remaining]\n",
    "\n",
    "    return cuts, best_value[length]\n",
    "    \n",
    "prices = [1, 5, 8, 9, 10, 17, 17, 20]\n",
    "rod_length = 8\n",
    "cuts, total = rod_cutting(rod_length, prices)\n",
    "\n",
    "print(\"Recommended cuts: \", cuts)\n",
    "print(\"Maximum obtainable value: \", total)"
   ]
  },
  {
   "cell_type": "code",
   "execution_count": null,
   "id": "dfb7f4e2-38fd-4366-a0f8-b23f0417aabd",
   "metadata": {},
   "outputs": [],
   "source": [
    "#Julia's improvement of the script above\n"
   ]
  }
 ],
 "metadata": {
  "kernelspec": {
   "display_name": "Python 3 (ipykernel)",
   "language": "python",
   "name": "python3"
  },
  "language_info": {
   "codemirror_mode": {
    "name": "ipython",
    "version": 3
   },
   "file_extension": ".py",
   "mimetype": "text/x-python",
   "name": "python",
   "nbconvert_exporter": "python",
   "pygments_lexer": "ipython3",
   "version": "3.12.7"
  }
 },
 "nbformat": 4,
 "nbformat_minor": 5
}
